{
  "nbformat": 4,
  "nbformat_minor": 0,
  "metadata": {
    "colab": {
      "provenance": [],
      "machine_shape": "hm"
    },
    "kernelspec": {
      "name": "python3",
      "display_name": "Python 3"
    },
    "language_info": {
      "name": "python"
    },
    "accelerator": "GPU",
    "gpuClass": "premium"
  },
  "cells": [
    {
      "cell_type": "code",
      "execution_count": null,
      "metadata": {
        "colab": {
          "base_uri": "https://localhost:8080/"
        },
        "id": "w9HoPLMi40Dn",
        "outputId": "c476d25e-64d6-496e-a75d-2e475a60173c"
      },
      "outputs": [
        {
          "output_type": "stream",
          "name": "stderr",
          "text": [
            "[nltk_data] Downloading package stopwords to /root/nltk_data...\n",
            "[nltk_data]   Package stopwords is already up-to-date!\n",
            "[nltk_data] Downloading package punkt to /root/nltk_data...\n",
            "[nltk_data]   Package punkt is already up-to-date!\n"
          ]
        }
      ],
      "source": [
        "#imports\n",
        "\n",
        "import numpy as np\n",
        "import pandas as pd\n",
        "from google.colab import drive\n",
        "from sklearn.preprocessing import StandardScaler\n",
        "from sklearn.model_selection import train_test_split\n",
        "from sklearn.feature_extraction.text import TfidfVectorizer\n",
        "import matplotlib.pyplot as plt\n",
        "import seaborn as sns; sns.set()\n",
        "from sklearn.metrics import precision_score\n",
        "import nltk\n",
        "import random\n",
        "nltk.download('stopwords')\n",
        "\n",
        "from nltk.corpus import stopwords\n",
        "import string\n",
        "stopset = stopwords.words('english') + list(string.punctuation)\n",
        "nltk.download('punkt')\n",
        "import re\n",
        "\n",
        "\n",
        "import io"
      ]
    },
    {
      "cell_type": "code",
      "source": [
        "#!pip install faiss-gpu"
      ],
      "metadata": {
        "colab": {
          "base_uri": "https://localhost:8080/"
        },
        "id": "UpXui72D45TX",
        "outputId": "3129ae17-181c-4c34-cf6e-dc7ca61d0d7e"
      },
      "execution_count": null,
      "outputs": [
        {
          "output_type": "stream",
          "name": "stdout",
          "text": [
            "Looking in indexes: https://pypi.org/simple, https://us-python.pkg.dev/colab-wheels/public/simple/\n",
            "Requirement already satisfied: faiss-gpu in /usr/local/lib/python3.8/dist-packages (1.7.2)\n"
          ]
        }
      ]
    },
    {
      "cell_type": "code",
      "source": [
        "#!sudo apt-get install libomp-dev"
      ],
      "metadata": {
        "colab": {
          "base_uri": "https://localhost:8080/"
        },
        "id": "bjCzNfWC5CsK",
        "outputId": "2095c219-140e-4a67-c333-2829477516f2"
      },
      "execution_count": null,
      "outputs": [
        {
          "output_type": "stream",
          "name": "stdout",
          "text": [
            "Reading package lists... Done\n",
            "Building dependency tree       \n",
            "Reading state information... Done\n",
            "libomp-dev is already the newest version (5.0.1-1).\n",
            "The following package was automatically installed and is no longer required:\n",
            "  libnvidia-common-460\n",
            "Use 'sudo apt autoremove' to remove it.\n",
            "0 upgraded, 0 newly installed, 0 to remove and 20 not upgraded.\n"
          ]
        }
      ]
    },
    {
      "cell_type": "code",
      "source": [
        "#import train answer embeddings + all three clue sets for embeddings\n",
        "\n",
        "drive.mount('/content/drive', force_remount=True)\n",
        "\n",
        "train_clue_embed_df = pd.read_csv('/content/drive/MyDrive/berttrainclue.csv')\n",
        "val_clue_embed_df = pd.read_csv('/content/drive/MyDrive/bertvalclue.csv')\n",
        "test_clue_embed_df = pd.read_csv('/content/drive/MyDrive/berttestclue.csv')\n",
        "answer_embed_df = pd.read_csv('/content/drive/MyDrive/berttrainanswer.csv')\n",
        "train_clue_embed = np.array(train_clue_embed_df, order = 'c', dtype='float32')\n",
        "val_clue_embed = np.array(val_clue_embed_df, order = 'c', dtype='float32')\n",
        "test_clue_embed = np.array(test_clue_embed_df, order = 'c', dtype='float32')\n",
        "answer_embed = np.array(answer_embed_df, order = 'c', dtype='float32')"
      ],
      "metadata": {
        "colab": {
          "base_uri": "https://localhost:8080/"
        },
        "id": "Q0AP1VL45Dw4",
        "outputId": "d4659878-c699-41dc-9923-3ea2475e2913"
      },
      "execution_count": null,
      "outputs": [
        {
          "output_type": "stream",
          "name": "stdout",
          "text": [
            "Mounted at /content/drive\n"
          ]
        }
      ]
    },
    {
      "cell_type": "code",
      "source": [
        "#get train/val/test answers\n",
        "\n",
        "nyt_train = pd.read_csv('/content/drive/MyDrive/nyttrain.csv')\n",
        "nyt_val = pd.read_csv('/content/drive/MyDrive/nytval.csv')\n",
        "nyt_test = pd.read_csv('/content/drive/MyDrive/nyttest.csv')\n",
        "\n",
        "train_answers = np.array([k for j in [list(eval(i)) for i in nyt_train['answer']] for k in j])\n",
        "val_answers = np.array([k for j in [list(eval(i)) for i in nyt_val['answer']] for k in j])\n",
        "test_answers = np.array([k for j in [list(eval(i)) for i in nyt_test['answer']] for k in j])"
      ],
      "metadata": {
        "id": "cmc2TDEJ68hL"
      },
      "execution_count": null,
      "outputs": []
    },
    {
      "cell_type": "code",
      "source": [
        "#import faiss, set up function\n",
        "\n",
        "#set up L2 index to find k most similar answer embeddings for each clue, train/add train answer embeddings, calculate val/test recall\n",
        "\n",
        "import faiss\n",
        "\n",
        "def FAISS_metrics(embed_size, cells, k):\n",
        "  quantizer = faiss.IndexFlatL2(embed_size)\n",
        "  index = faiss.IndexIVFFlat(quantizer, embed_size, cells)\n",
        "  index.train(answer_embed)\n",
        "  index.add(answer_embed)\n",
        "  val_D, val_I = index.search(val_clue_embed, k)\n",
        "  del val_D\n",
        "  val_recall = np.mean([bool(val_answers[i] in train_answers[val_I[i]]) for i in range(len(val_answers))])\n",
        "  del val_I\n",
        "  test_D, test_I = index.search(test_clue_embed, k)\n",
        "  del test_D\n",
        "  test_recall = np.mean([bool(test_answers[i] in train_answers[test_I[i]]) for i in range(len(test_answers))])\n",
        "  del test_I\n",
        "  return val_recall, test_recall"
      ],
      "metadata": {
        "id": "nZUcVv1U5nHf"
      },
      "execution_count": null,
      "outputs": []
    },
    {
      "cell_type": "code",
      "source": [
        "#set up FAISS parameters, perform k recall for each k set to a multiple of 10\n",
        "\n",
        "k_list = [int(i) for i in np.arange(10,1010,10)]\n",
        "embed_size, cells = len(train_clue_embed[0]), 50\n",
        "val_recall_list = []\n",
        "test_recall_list = []\n",
        "\n",
        "for i in k_list:\n",
        "  print(i)\n",
        "  val_recall, test_recall = FAISS_metrics(embed_size, cells, i)\n",
        "  val_recall_list.append(val_recall)\n",
        "  test_recall_list.append(test_recall)"
      ],
      "metadata": {
        "colab": {
          "base_uri": "https://localhost:8080/"
        },
        "id": "IoHD0hzFNWl9",
        "outputId": "1f863989-36c4-4cfc-ede7-d4ece8601b81"
      },
      "execution_count": null,
      "outputs": [
        {
          "output_type": "stream",
          "name": "stdout",
          "text": [
            "10\n",
            "20\n",
            "30\n",
            "40\n",
            "50\n",
            "60\n",
            "70\n",
            "80\n",
            "90\n",
            "100\n",
            "110\n",
            "120\n",
            "130\n",
            "140\n",
            "150\n",
            "160\n",
            "170\n",
            "180\n",
            "190\n",
            "200\n",
            "210\n",
            "220\n",
            "230\n",
            "240\n",
            "250\n",
            "260\n",
            "270\n",
            "280\n",
            "290\n",
            "300\n",
            "310\n",
            "320\n",
            "330\n",
            "340\n",
            "350\n",
            "360\n",
            "370\n",
            "380\n",
            "390\n",
            "400\n",
            "410\n",
            "420\n",
            "430\n",
            "440\n",
            "450\n",
            "460\n",
            "470\n",
            "480\n",
            "490\n",
            "500\n",
            "510\n",
            "520\n",
            "530\n",
            "540\n",
            "550\n",
            "560\n",
            "570\n",
            "580\n",
            "590\n",
            "600\n",
            "610\n",
            "620\n",
            "630\n",
            "640\n",
            "650\n",
            "660\n",
            "670\n",
            "680\n",
            "690\n",
            "700\n",
            "710\n",
            "720\n",
            "730\n",
            "740\n",
            "750\n",
            "760\n",
            "770\n",
            "780\n",
            "790\n",
            "800\n",
            "810\n",
            "820\n",
            "830\n",
            "840\n",
            "850\n",
            "860\n",
            "870\n",
            "880\n",
            "890\n",
            "900\n",
            "910\n",
            "920\n",
            "930\n",
            "940\n",
            "950\n",
            "960\n",
            "970\n",
            "980\n",
            "990\n",
            "1000\n"
          ]
        }
      ]
    },
    {
      "cell_type": "code",
      "source": [
        "#recall plot\n",
        "\n",
        "plt.plot(k_list, val_recall_list, label='validation recall')\n",
        "plt.plot(k_list, test_recall_list, label='test recall')\n",
        "plt.xlabel('k')\n",
        "plt.ylabel('recall')\n",
        "plt.title('k-recall')\n",
        "plt.legend()\n",
        "plt.show()"
      ],
      "metadata": {
        "colab": {
          "base_uri": "https://localhost:8080/",
          "height": 301
        },
        "id": "DXOAN9T8QhPu",
        "outputId": "4a181a80-1be0-4969-83d1-e4a37b161dd8"
      },
      "execution_count": null,
      "outputs": [
        {
          "output_type": "display_data",
          "data": {
            "text/plain": [
              "<Figure size 432x288 with 1 Axes>"
            ],
            "image/png": "[encoded data removed]"
          },
          "metadata": {}
        }
      ]
    },
    {
      "cell_type": "code",
      "source": [],
      "metadata": {
        "id": "hWRpwiDTSYIX"
      },
      "execution_count": null,
      "outputs": []
    }
  ]
}