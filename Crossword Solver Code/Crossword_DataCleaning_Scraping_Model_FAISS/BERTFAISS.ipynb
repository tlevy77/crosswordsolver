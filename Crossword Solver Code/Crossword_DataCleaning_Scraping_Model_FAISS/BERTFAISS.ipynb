{
  "nbformat": 4,
  "nbformat_minor": 0,
  "metadata": {
    "colab": {
      "provenance": [],
      "machine_shape": "hm"
    },
    "kernelspec": {
      "name": "python3",
      "display_name": "Python 3"
    },
    "language_info": {
      "name": "python"
    },
    "accelerator": "GPU",
    "gpuClass": "premium"
  },
  "cells": [
    {
      "cell_type": "code",
      "execution_count": null,
      "metadata": {
        "colab": {
          "base_uri": "https://localhost:8080/"
        },
        "id": "0emQARugB_nC",
        "outputId": "409b9cc4-2296-4bd8-d63d-03cec9f1048c"
      },
      "outputs": [
        {
          "output_type": "stream",
          "name": "stderr",
          "text": [
            "[nltk_data] Downloading package stopwords to /root/nltk_data...\n",
            "[nltk_data]   Package stopwords is already up-to-date!\n",
            "[nltk_data] Downloading package punkt to /root/nltk_data...\n",
            "[nltk_data]   Package punkt is already up-to-date!\n"
          ]
        }
      ],
      "source": [
        "#imports\n",
        "\n",
        "import numpy as np\n",
        "import pandas as pd\n",
        "from google.colab import drive\n",
        "from sklearn.preprocessing import StandardScaler\n",
        "from sklearn.model_selection import train_test_split\n",
        "from sklearn.feature_extraction.text import TfidfVectorizer\n",
        "import matplotlib.pyplot as plt\n",
        "import seaborn as sns; sns.set()\n",
        "from sklearn.metrics import precision_score\n",
        "import nltk\n",
        "import random\n",
        "nltk.download('stopwords')\n",
        "\n",
        "from nltk.corpus import stopwords\n",
        "import string\n",
        "stopset = stopwords.words('english') + list(string.punctuation)\n",
        "nltk.download('punkt')\n",
        "import re\n",
        "\n",
        "\n",
        "\n",
        "import io\n"
      ]
    },
    {
      "cell_type": "code",
      "source": [
        "#!pip install faiss-gpu"
      ],
      "metadata": {
        "colab": {
          "base_uri": "https://localhost:8080/"
        },
        "id": "_NNf3OKtCLHR",
        "outputId": "8fb46c6b-71bb-4385-8665-a387ed422107"
      },
      "execution_count": null,
      "outputs": [
        {
          "output_type": "stream",
          "name": "stdout",
          "text": [
            "Looking in indexes: https://pypi.org/simple, https://us-python.pkg.dev/colab-wheels/public/simple/\n",
            "Requirement already satisfied: faiss-gpu in /usr/local/lib/python3.8/dist-packages (1.7.2)\n"
          ]
        }
      ]
    },
    {
      "cell_type": "code",
      "source": [
        "#!sudo apt-get install libomp-dev"
      ],
      "metadata": {
        "colab": {
          "base_uri": "https://localhost:8080/"
        },
        "id": "b_u45q0FCZz7",
        "outputId": "29d0bf5a-28ca-4645-d7c5-f831d2d7bc7d"
      },
      "execution_count": null,
      "outputs": [
        {
          "output_type": "stream",
          "name": "stdout",
          "text": [
            "Reading package lists... Done\n",
            "Building dependency tree       \n",
            "Reading state information... Done\n",
            "libomp-dev is already the newest version (5.0.1-1).\n",
            "The following package was automatically installed and is no longer required:\n",
            "  libnvidia-common-460\n",
            "Use 'sudo apt autoremove' to remove it.\n",
            "0 upgraded, 0 newly installed, 0 to remove and 20 not upgraded.\n"
          ]
        }
      ]
    },
    {
      "cell_type": "code",
      "source": [
        "#load train answer/clue embeddings\n",
        "\n",
        "drive.mount('/content/drive', force_remount=True)\n",
        "\n",
        "clue_embed_df = pd.read_csv('/content/drive/MyDrive/berttrainclue.csv')\n",
        "answer_embed_df = pd.read_csv('/content/drive/MyDrive/berttrainanswer.csv')\n",
        "clue_embed = np.array(clue_embed_df, order = 'c', dtype='float32')\n",
        "answer_embed = np.array(answer_embed_df, order = 'c', dtype='float32')"
      ],
      "metadata": {
        "colab": {
          "base_uri": "https://localhost:8080/"
        },
        "id": "LrUVI3icCb5k",
        "outputId": "53d45928-276d-439d-d53b-b3c166580c15"
      },
      "execution_count": null,
      "outputs": [
        {
          "output_type": "stream",
          "name": "stdout",
          "text": [
            "Mounted at /content/drive\n"
          ]
        }
      ]
    },
    {
      "cell_type": "code",
      "source": [
        "#set up FAISS L2 index with 50 voronoi cell split, retrieve 1000 most similar answer embeddings to each clue\n",
        "\n",
        "import faiss\n",
        "nlist = 50\n",
        "quantizer = faiss.IndexFlatL2(256)\n",
        "index = faiss.IndexIVFFlat(quantizer, 256, nlist)\n",
        "index.train(answer_embed)\n",
        "index.add(answer_embed)\n",
        "D, I = index.search(clue_embed, 1000)"
      ],
      "metadata": {
        "id": "rMDu3498Cfk_"
      },
      "execution_count": null,
      "outputs": []
    },
    {
      "cell_type": "code",
      "source": [
        "#train recall\n",
        "\n",
        "np.mean([bool(i in I[i]) for i in range(len(I))])"
      ],
      "metadata": {
        "colab": {
          "base_uri": "https://localhost:8080/"
        },
        "id": "t_PU8kIkD3iV",
        "outputId": "2f8d78e2-78cb-4664-b273-75848d1cf4d1"
      },
      "execution_count": null,
      "outputs": [
        {
          "output_type": "execute_result",
          "data": {
            "text/plain": [
              "0.4608269723573525"
            ]
          },
          "metadata": {},
          "execution_count": 6
        }
      ]
    },
    {
      "cell_type": "code",
      "source": [
        "del clue_embed"
      ],
      "metadata": {
        "id": "uiXP77Ae1eIh"
      },
      "execution_count": null,
      "outputs": []
    },
    {
      "cell_type": "code",
      "source": [
        "del index, quantizer"
      ],
      "metadata": {
        "id": "w693EF-g7D8y"
      },
      "execution_count": null,
      "outputs": []
    },
    {
      "cell_type": "code",
      "source": [
        "del D"
      ],
      "metadata": {
        "id": "MpTq0p21-Zx3"
      },
      "execution_count": null,
      "outputs": []
    },
    {
      "cell_type": "code",
      "source": [
        "#export I matrix\n",
        "\n",
        "pd.DataFrame(I).to_csv('/content/drive/MyDrive/bertI_train.csv', index=False)"
      ],
      "metadata": {
        "id": "g-EuaILRiLfg"
      },
      "execution_count": null,
      "outputs": []
    },
    {
      "cell_type": "code",
      "source": [
        "del I"
      ],
      "metadata": {
        "id": "fQFKkOKf7BzA"
      },
      "execution_count": null,
      "outputs": []
    },
    {
      "cell_type": "code",
      "source": [
        "#load validation clue embeddings\n",
        "\n",
        "clue_embed_df = pd.read_csv('/content/drive/MyDrive/bertvalclue.csv')\n",
        "clue_embed = np.array(clue_embed_df, order = 'c', dtype='float32')"
      ],
      "metadata": {
        "id": "9OOCcrUT1i8d"
      },
      "execution_count": null,
      "outputs": []
    },
    {
      "cell_type": "code",
      "source": [
        "#FAISS process for validation set\n",
        "\n",
        "nlist = 50\n",
        "quantizer = faiss.IndexFlatL2(256)\n",
        "index = faiss.IndexIVFFlat(quantizer, 256, nlist)\n",
        "index.train(answer_embed)\n",
        "index.add(answer_embed)\n",
        "D, I = index.search(clue_embed, 1000)"
      ],
      "metadata": {
        "id": "ZEDk4CqQ1qmr"
      },
      "execution_count": null,
      "outputs": []
    },
    {
      "cell_type": "code",
      "source": [
        "#load train/val/test sets for answers\n",
        "\n",
        "nyt_train = pd.read_csv('/content/drive/MyDrive/nyttrain.csv')\n",
        "nyt_val = pd.read_csv('/content/drive/MyDrive/nytval.csv')\n",
        "nyt_test = pd.read_csv('/content/drive/MyDrive/nyttest.csv')"
      ],
      "metadata": {
        "id": "lIgK_6QEyY1P"
      },
      "execution_count": null,
      "outputs": []
    },
    {
      "cell_type": "code",
      "source": [
        "#answer sets\n",
        "\n",
        "train_answers = np.array([k for j in [list(eval(i)) for i in nyt_train['answer']] for k in j])\n",
        "val_answers = np.array([k for j in [list(eval(i)) for i in nyt_val['answer']] for k in j])\n",
        "test_answers = np.array([k for j in [list(eval(i)) for i in nyt_test['answer']] for k in j])"
      ],
      "metadata": {
        "id": "NYBal-SAzQPv"
      },
      "execution_count": null,
      "outputs": []
    },
    {
      "cell_type": "code",
      "source": [
        "np.mean([bool(val_answers[i] in train_answers[I[i]]) for i in range(len(val_answers))])"
      ],
      "metadata": {
        "colab": {
          "base_uri": "https://localhost:8080/"
        },
        "id": "irRR4Aph1aCg",
        "outputId": "16992f6f-7df7-4efd-accc-b8398590e73c"
      },
      "execution_count": null,
      "outputs": [
        {
          "output_type": "execute_result",
          "data": {
            "text/plain": [
              "0.3820897601058459"
            ]
          },
          "metadata": {},
          "execution_count": 17
        }
      ]
    },
    {
      "cell_type": "code",
      "source": [
        "pd.DataFrame(I).to_csv('/content/drive/MyDrive/bertI_val.csv', index=False)"
      ],
      "metadata": {
        "id": "-QClDQ3k7YJP"
      },
      "execution_count": null,
      "outputs": []
    },
    {
      "cell_type": "code",
      "source": [
        "del clue_embed, index, quantizer, D, I"
      ],
      "metadata": {
        "id": "h1eyg6VmCMGT"
      },
      "execution_count": null,
      "outputs": []
    },
    {
      "cell_type": "code",
      "source": [
        "#test clue embeddings\n",
        "\n",
        "clue_embed_df = pd.read_csv('/content/drive/MyDrive/berttestclue.csv')\n",
        "clue_embed = np.array(clue_embed_df, order = 'c', dtype='float32')"
      ],
      "metadata": {
        "id": "kk74wPZjaAHy"
      },
      "execution_count": null,
      "outputs": []
    },
    {
      "cell_type": "code",
      "source": [
        "#FAISS process for test set\n",
        "\n",
        "nlist = 50  \n",
        "quantizer = faiss.IndexFlatL2(256)\n",
        "index = faiss.IndexIVFFlat(quantizer, 256, nlist)\n",
        "index.train(answer_embed)\n",
        "index.add(answer_embed)\n",
        "D, I = index.search(clue_embed, 1000)"
      ],
      "metadata": {
        "id": "QNQgI9uIaEVb"
      },
      "execution_count": null,
      "outputs": []
    },
    {
      "cell_type": "code",
      "source": [
        "#test recall\n",
        "\n",
        "np.mean([bool(test_answers[i] in train_answers[I[i]]) for i in range(len(test_answers))])"
      ],
      "metadata": {
        "colab": {
          "base_uri": "https://localhost:8080/"
        },
        "id": "63XtKIHlaILW",
        "outputId": "a1e3b1cc-fc53-4cc9-f23c-718d93fea900"
      },
      "execution_count": null,
      "outputs": [
        {
          "output_type": "execute_result",
          "data": {
            "text/plain": [
              "0.3746765847347995"
            ]
          },
          "metadata": {},
          "execution_count": 22
        }
      ]
    },
    {
      "cell_type": "code",
      "source": [
        "#export I matrix\n",
        "\n",
        "pd.DataFrame(I).to_csv('/content/drive/MyDrive/bertI_test.csv', index=False)"
      ],
      "metadata": {
        "id": "a9vcx_EOaTQx"
      },
      "execution_count": null,
      "outputs": []
    },
    {
      "cell_type": "code",
      "source": [
        "del clue_embed, index, quantizer, D, I"
      ],
      "metadata": {
        "id": "NzxpAT13alTE"
      },
      "execution_count": null,
      "outputs": []
    },
    {
      "cell_type": "code",
      "source": [],
      "metadata": {
        "id": "_NRoDxQCaqPY"
      },
      "execution_count": null,
      "outputs": []
    }
  ]
}