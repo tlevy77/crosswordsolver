{
  "nbformat": 4,
  "nbformat_minor": 0,
  "metadata": {
    "colab": {
      "provenance": [],
      "machine_shape": "hm"
    },
    "kernelspec": {
      "name": "python3",
      "display_name": "Python 3"
    },
    "language_info": {
      "name": "python"
    },
    "accelerator": "GPU",
    "gpuClass": "premium"
  },
  "cells": [
    {
      "cell_type": "code",
      "execution_count": null,
      "metadata": {
        "colab": {
          "base_uri": "https://localhost:8080/"
        },
        "id": "0emQARugB_nC",
        "outputId": "66eaf0eb-5d8e-42a3-eb91-ba58eadaed45"
      },
      "outputs": [
        {
          "output_type": "stream",
          "name": "stderr",
          "text": [
            "[nltk_data] Downloading package stopwords to /root/nltk_data...\n",
            "[nltk_data]   Unzipping corpora/stopwords.zip.\n",
            "[nltk_data] Downloading package punkt to /root/nltk_data...\n",
            "[nltk_data]   Unzipping tokenizers/punkt.zip.\n"
          ]
        }
      ],
      "source": [
        "#imports\n",
        "\n",
        "import numpy as np\n",
        "import pandas as pd\n",
        "from google.colab import drive\n",
        "from sklearn.preprocessing import StandardScaler\n",
        "from sklearn.model_selection import train_test_split\n",
        "from sklearn.feature_extraction.text import TfidfVectorizer\n",
        "import matplotlib.pyplot as plt\n",
        "import seaborn as sns; sns.set()\n",
        "from sklearn.metrics import precision_score\n",
        "import nltk\n",
        "import random\n",
        "nltk.download('stopwords')\n",
        "\n",
        "from nltk.corpus import stopwords\n",
        "import string\n",
        "stopset = stopwords.words('english') + list(string.punctuation)\n",
        "nltk.download('punkt')\n",
        "import re\n",
        "\n",
        "import io\n"
      ]
    },
    {
      "cell_type": "code",
      "source": [
        "#!pip install faiss-gpu"
      ],
      "metadata": {
        "colab": {
          "base_uri": "https://localhost:8080/"
        },
        "id": "_NNf3OKtCLHR",
        "outputId": "a616aa1b-3e93-415d-9ce3-36c88b086b42"
      },
      "execution_count": null,
      "outputs": [
        {
          "output_type": "stream",
          "name": "stdout",
          "text": [
            "Looking in indexes: https://pypi.org/simple, https://us-python.pkg.dev/colab-wheels/public/simple/\n",
            "Collecting faiss-gpu\n",
            "  Downloading faiss_gpu-1.7.2-cp38-cp38-manylinux_2_17_x86_64.manylinux2014_x86_64.whl (85.5 MB)\n",
            "\u001b[K     |████████████████████████████████| 85.5 MB 77 kB/s \n",
            "\u001b[?25hInstalling collected packages: faiss-gpu\n",
            "Successfully installed faiss-gpu-1.7.2\n"
          ]
        }
      ]
    },
    {
      "cell_type": "code",
      "source": [
        "#!sudo apt-get install libomp-dev"
      ],
      "metadata": {
        "colab": {
          "base_uri": "https://localhost:8080/"
        },
        "id": "b_u45q0FCZz7",
        "outputId": "2fe8c803-0c87-4af6-c299-37bd44ff8b31"
      },
      "execution_count": null,
      "outputs": [
        {
          "output_type": "stream",
          "name": "stdout",
          "text": [
            "Reading package lists... Done\n",
            "Building dependency tree       \n",
            "Reading state information... Done\n",
            "The following package was automatically installed and is no longer required:\n",
            "  libnvidia-common-460\n",
            "Use 'sudo apt autoremove' to remove it.\n",
            "The following additional packages will be installed:\n",
            "  libomp5\n",
            "Suggested packages:\n",
            "  libomp-doc\n",
            "The following NEW packages will be installed:\n",
            "  libomp-dev libomp5\n",
            "0 upgraded, 2 newly installed, 0 to remove and 7 not upgraded.\n",
            "Need to get 239 kB of archives.\n",
            "After this operation, 804 kB of additional disk space will be used.\n",
            "Get:1 http://archive.ubuntu.com/ubuntu bionic/universe amd64 libomp5 amd64 5.0.1-1 [234 kB]\n",
            "Get:2 http://archive.ubuntu.com/ubuntu bionic/universe amd64 libomp-dev amd64 5.0.1-1 [5,088 B]\n",
            "Fetched 239 kB in 0s (692 kB/s)\n",
            "debconf: unable to initialize frontend: Dialog\n",
            "debconf: (No usable dialog-like program is installed, so the dialog based frontend cannot be used. at /usr/share/perl5/Debconf/FrontEnd/Dialog.pm line 76, <> line 2.)\n",
            "debconf: falling back to frontend: Readline\n",
            "debconf: unable to initialize frontend: Readline\n",
            "debconf: (This frontend requires a controlling tty.)\n",
            "debconf: falling back to frontend: Teletype\n",
            "dpkg-preconfigure: unable to re-open stdin: \n",
            "Selecting previously unselected package libomp5:amd64.\n",
            "(Reading database ... 124015 files and directories currently installed.)\n",
            "Preparing to unpack .../libomp5_5.0.1-1_amd64.deb ...\n",
            "Unpacking libomp5:amd64 (5.0.1-1) ...\n",
            "Selecting previously unselected package libomp-dev.\n",
            "Preparing to unpack .../libomp-dev_5.0.1-1_amd64.deb ...\n",
            "Unpacking libomp-dev (5.0.1-1) ...\n",
            "Setting up libomp5:amd64 (5.0.1-1) ...\n",
            "Setting up libomp-dev (5.0.1-1) ...\n",
            "Processing triggers for libc-bin (2.27-3ubuntu1.6) ...\n"
          ]
        }
      ]
    },
    {
      "cell_type": "code",
      "source": [
        "#load train embeddings/convert to array\n",
        "\n",
        "drive.mount('/content/drive', force_remount=True)\n",
        "\n",
        "clue_embed_df = pd.read_csv('/content/drive/MyDrive/clueembed2.csv')\n",
        "answer_embed_df = pd.read_csv('/content/drive/MyDrive/answerembed2.csv')\n",
        "clue_embed = np.array(clue_embed_df, order = 'c', dtype='float32')\n",
        "answer_embed = np.array(answer_embed_df, order = 'c', dtype='float32')"
      ],
      "metadata": {
        "colab": {
          "base_uri": "https://localhost:8080/"
        },
        "id": "LrUVI3icCb5k",
        "outputId": "14bd8b3f-9ce1-4a85-d05c-0ec8320bf57e"
      },
      "execution_count": null,
      "outputs": [
        {
          "output_type": "stream",
          "name": "stdout",
          "text": [
            "Mounted at /content/drive\n"
          ]
        }
      ]
    },
    {
      "cell_type": "code",
      "source": [
        "#set up FAISS L2 index with 50 voronoi cell split, retrieve 1000 most similar answer embeddings to each clue\n",
        "\n",
        "import faiss\n",
        "nlist = 50  \n",
        "quantizer = faiss.IndexFlatL2(384)\n",
        "index = faiss.IndexIVFFlat(quantizer, 384, nlist)\n",
        "index.train(answer_embed)\n",
        "index.add(answer_embed)\n",
        "D, I = index.search(clue_embed, 1000)"
      ],
      "metadata": {
        "id": "rMDu3498Cfk_"
      },
      "execution_count": null,
      "outputs": []
    },
    {
      "cell_type": "code",
      "source": [
        "#training recall\n",
        "\n",
        "np.mean([bool(i in I[i]) for i in range(len(I))])"
      ],
      "metadata": {
        "colab": {
          "base_uri": "https://localhost:8080/"
        },
        "id": "t_PU8kIkD3iV",
        "outputId": "a326ce6f-dff7-428a-db54-c337467abafe"
      },
      "execution_count": null,
      "outputs": [
        {
          "output_type": "execute_result",
          "data": {
            "text/plain": [
              "0.48433426194900137"
            ]
          },
          "metadata": {},
          "execution_count": 8
        }
      ]
    },
    {
      "cell_type": "code",
      "source": [
        "del clue_embed"
      ],
      "metadata": {
        "id": "uiXP77Ae1eIh"
      },
      "execution_count": null,
      "outputs": []
    },
    {
      "cell_type": "code",
      "source": [
        "del index, quantizer"
      ],
      "metadata": {
        "id": "w693EF-g7D8y"
      },
      "execution_count": null,
      "outputs": []
    },
    {
      "cell_type": "code",
      "source": [
        "del D"
      ],
      "metadata": {
        "id": "MpTq0p21-Zx3"
      },
      "execution_count": null,
      "outputs": []
    },
    {
      "cell_type": "code",
      "source": [
        "#export I matrix\n",
        "\n",
        "pd.DataFrame(I).to_csv('/content/drive/MyDrive/I_train.csv', index=False)"
      ],
      "metadata": {
        "id": "g-EuaILRiLfg"
      },
      "execution_count": null,
      "outputs": []
    },
    {
      "cell_type": "code",
      "source": [
        "del I"
      ],
      "metadata": {
        "id": "fQFKkOKf7BzA"
      },
      "execution_count": null,
      "outputs": []
    },
    {
      "cell_type": "code",
      "source": [
        "#load validation clue embeddings\n",
        "\n",
        "clue_embed_df = pd.read_csv('/content/drive/MyDrive/valclueembed2.csv')\n",
        "clue_embed = np.array(clue_embed_df, order = 'c', dtype='float32')"
      ],
      "metadata": {
        "id": "9OOCcrUT1i8d"
      },
      "execution_count": null,
      "outputs": []
    },
    {
      "cell_type": "code",
      "source": [
        "#same FAISS process, this time for validation clues\n",
        "\n",
        "nlist = 50\n",
        "quantizer = faiss.IndexFlatL2(384)\n",
        "index = faiss.IndexIVFFlat(quantizer, 384, nlist)\n",
        "index.train(answer_embed)\n",
        "index.add(answer_embed)\n",
        "D, I = index.search(clue_embed, 1000)"
      ],
      "metadata": {
        "id": "ZEDk4CqQ1qmr"
      },
      "execution_count": null,
      "outputs": []
    },
    {
      "cell_type": "code",
      "source": [
        "#load train/val/test sets for answers\n",
        "\n",
        "nyt_train = pd.read_csv('/content/drive/MyDrive/nyttrain.csv')\n",
        "nyt_val = pd.read_csv('/content/drive/MyDrive/nytval.csv')\n",
        "nyt_test = pd.read_csv('/content/drive/MyDrive/nyttest.csv')"
      ],
      "metadata": {
        "id": "lIgK_6QEyY1P"
      },
      "execution_count": null,
      "outputs": []
    },
    {
      "cell_type": "code",
      "source": [
        "#answer sets\n",
        "\n",
        "train_answers = np.array([k for j in [list(eval(i)) for i in nyt_train['answer']] for k in j])\n",
        "val_answers = np.array([k for j in [list(eval(i)) for i in nyt_val['answer']] for k in j])\n",
        "test_answers = np.array([k for j in [list(eval(i)) for i in nyt_test['answer']] for k in j])"
      ],
      "metadata": {
        "id": "NYBal-SAzQPv"
      },
      "execution_count": null,
      "outputs": []
    },
    {
      "cell_type": "code",
      "source": [
        "#validation recall\n",
        "\n",
        "np.mean([bool(val_answers[i] in train_answers[I[i]]) for i in range(len(val_answers))])"
      ],
      "metadata": {
        "colab": {
          "base_uri": "https://localhost:8080/"
        },
        "id": "irRR4Aph1aCg",
        "outputId": "cc729894-b019-4b26-f2a1-0ea2240f58be"
      },
      "execution_count": null,
      "outputs": [
        {
          "output_type": "execute_result",
          "data": {
            "text/plain": [
              "0.36854566345182965"
            ]
          },
          "metadata": {},
          "execution_count": 20
        }
      ]
    },
    {
      "cell_type": "code",
      "source": [
        "#export I index\n",
        "\n",
        "pd.DataFrame(I).to_csv('/content/drive/MyDrive/I_val.csv', index=False)"
      ],
      "metadata": {
        "id": "-QClDQ3k7YJP"
      },
      "execution_count": null,
      "outputs": []
    },
    {
      "cell_type": "code",
      "source": [
        "del clue_embed, index, quantizer, D, I"
      ],
      "metadata": {
        "id": "h1eyg6VmCMGT"
      },
      "execution_count": null,
      "outputs": []
    },
    {
      "cell_type": "code",
      "source": [
        "#load test clue embeddings\n",
        "\n",
        "clue_embed_df = pd.read_csv('/content/drive/MyDrive/testclueembed2.csv')\n",
        "clue_embed = np.array(clue_embed_df, order = 'c', dtype='float32')"
      ],
      "metadata": {
        "id": "kk74wPZjaAHy"
      },
      "execution_count": null,
      "outputs": []
    },
    {
      "cell_type": "code",
      "source": [
        "#FAISS process for test clues\n",
        "\n",
        "nlist = 50\n",
        "quantizer = faiss.IndexFlatL2(384)\n",
        "index = faiss.IndexIVFFlat(quantizer, 384, nlist)\n",
        "index.train(answer_embed)\n",
        "index.add(answer_embed)\n",
        "D, I = index.search(clue_embed, 1000)"
      ],
      "metadata": {
        "id": "QNQgI9uIaEVb"
      },
      "execution_count": null,
      "outputs": []
    },
    {
      "cell_type": "code",
      "source": [
        "#test recall\n",
        "\n",
        "np.mean([bool(test_answers[i] in train_answers[I[i]]) for i in range(len(test_answers))])"
      ],
      "metadata": {
        "colab": {
          "base_uri": "https://localhost:8080/"
        },
        "id": "63XtKIHlaILW",
        "outputId": "b937aa23-fe78-485d-dc21-a38e00104a9a"
      },
      "execution_count": null,
      "outputs": [
        {
          "output_type": "execute_result",
          "data": {
            "text/plain": [
              "0.36020375161707635"
            ]
          },
          "metadata": {},
          "execution_count": 25
        }
      ]
    },
    {
      "cell_type": "code",
      "source": [
        "#export I matrix\n",
        "\n",
        "pd.DataFrame(I).to_csv('/content/drive/MyDrive/I_test.csv', index=False)"
      ],
      "metadata": {
        "id": "a9vcx_EOaTQx"
      },
      "execution_count": null,
      "outputs": []
    },
    {
      "cell_type": "code",
      "source": [
        "del clue_embed, index, quantizer, D, I"
      ],
      "metadata": {
        "id": "NzxpAT13alTE"
      },
      "execution_count": null,
      "outputs": []
    },
    {
      "cell_type": "code",
      "source": [],
      "metadata": {
        "id": "_NRoDxQCaqPY"
      },
      "execution_count": null,
      "outputs": []
    }
  ]
}